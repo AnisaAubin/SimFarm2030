{
 "cells": [
  {
   "cell_type": "code",
   "execution_count": null,
   "metadata": {},
   "outputs": [],
   "source": [
    "from simfarm.cli import EXTRACTED_WEATHER_HDF\n",
    "from simfarm.extract.weather import fetch_weather\n",
    "from simfarm.utils.pandas import extract_cultivar\n",
    "from simfarm.model import cultivarModel\n",
    "# import utilities\n",
    "import time\n",
    "import pickle\n",
    "import sys\n",
    "#from mcmc import *\n",
    "\n",
    "cult = \"Skyfall\"\n",
    "weather = fetch_weather(cult, EXTRACTED_WEATHER_HDF)\n",
    "cultivar_data = extract_cultivar(cult)"
   ]
  },
  {
   "cell_type": "code",
   "execution_count": null,
   "metadata": {},
   "outputs": [],
   "source": [
    "setup_start = time.time()\n",
    "simfarm = cultivarModel(cult, cultivar_data, weather, metric='Yield',\n",
    "                        metric_units='t Ha$^{-1}$')\n",
    "print('Setup', time.time() - setup_start)"
   ]
  },
  {
   "cell_type": "code",
   "execution_count": null,
   "metadata": {},
   "outputs": [],
   "source": [
    "print(simfarm.mean_params)\n",
    "tstart = time.time()\n",
    "simfarm.train_and_validate_model(nsample=5000, nwalkers=250)\n",
    "print('Train', time.time() - tstart)"
   ]
  },
  {
   "cell_type": "code",
   "execution_count": null,
   "metadata": {},
   "outputs": [],
   "source": [
    "simfarm.plot_walkers()\n",
    "simfarm.post_prior_comp()\n",
    "\n",
    "# Write out object as pickle\n",
    "with open('../cultivar_models/' + simfarm.cult + '_' + simfarm.metric + '_model.pck', 'wb') as pfile1:\n",
    "    pickle.dump(simfarm, pfile1)"
   ]
  },
  {
   "cell_type": "code",
   "execution_count": null,
   "metadata": {},
   "outputs": [],
   "source": []
  }
 ],
 "metadata": {
  "kernelspec": {
   "display_name": "Python 3",
   "language": "python",
   "name": "python3"
  },
  "language_info": {
   "codemirror_mode": {
    "name": "ipython",
    "version": 3
   },
   "file_extension": ".py",
   "mimetype": "text/x-python",
   "name": "python",
   "nbconvert_exporter": "python",
   "pygments_lexer": "ipython3",
   "version": "3.7.2"
  }
 },
 "nbformat": 4,
 "nbformat_minor": 4
}