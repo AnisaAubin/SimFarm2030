{
 "cells": [
  {
   "cell_type": "code",
   "execution_count": 3,
   "metadata": {},
   "outputs": [],
   "source": [
    "from model_daily import cultivarModel\n",
    "import utilities\n",
    "import time\n",
    "import pickle\n",
    "import sys\n",
    "import mcmc\n",
    "\n",
    "cult = \"Solstice\""
   ]
  },
  {
   "cell_type": "code",
   "execution_count": null,
   "metadata": {},
   "outputs": [
    {
     "name": "stdout",
     "output_type": "stream",
     "text": [
      "Removed 21 outliers with yields < 7.497 Tons / Hectare\n",
      "Training on 360 Regions (data points)\n"
     ]
    }
   ],
   "source": [
    "setup_start = time.time()\n",
    "simfarm = cultivarModel(cult, region_tol=0.25, weather=['temperature', 'rainfall'], metric='Yield',\n",
    "                        metriiiic_units='t Ha$^{-1}$')\n",
    "print('Setup', time.time() - setup_start)"
   ]
  },
  {
   "cell_type": "code",
   "execution_count": null,
   "metadata": {},
   "outputs": [],
   "source": [
    "tstart = time.time()\n",
    "mcmc.train_and_validate_model(simfarm, nsample=5000, nwalkers=250)\n",
    "print('Train', time.time() - tstart)"
   ]
  }
 ],
 "metadata": {
  "kernelspec": {
   "display_name": "Python 3",
   "language": "python",
   "name": "python3"
  },
  "language_info": {
   "codemirror_mode": {
    "name": "ipython",
    "version": 3
   },
   "file_extension": ".py",
   "mimetype": "text/x-python",
   "name": "python",
   "nbconvert_exporter": "python",
   "pygments_lexer": "ipython3",
   "version": "3.7.2"
  }
 },
 "nbformat": 4,
 "nbformat_minor": 4
}
