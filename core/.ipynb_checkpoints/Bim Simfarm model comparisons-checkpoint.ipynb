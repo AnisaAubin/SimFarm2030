{
 "cells": [
  {
   "cell_type": "code",
   "execution_count": 1,
   "metadata": {},
   "outputs": [],
   "source": [
    "import numpy as np\n",
    "import scipy.stats as stat\n",
    "import h5py\n",
    "import corner\n",
    "from multiprocessing import Pool\n",
    "import matplotlib.pyplot as plt\n",
    "import matplotlib.gridspec as gridspec\n",
    "import utilities\n",
    "import os\n",
    "import emcee\n",
    "import seaborn as sns\n",
    "import warnings\n",
    "import time\n",
    "import pickle\n",
    "from model import *\n",
    "\n",
    "warnings.filterwarnings(\"ignore\")\n",
    "os.environ[\"OMP_NUM_THREADS\"] = \"1\"\n",
    "\n",
    "sns.set_style('whitegrid')\n",
    "sns.set_context(\"paper\", rc={\"font.size\": 12, \"axes.titlesize\": 12, \"axes.labelsize\": 12})"
   ]
  },
  {
   "cell_type": "code",
   "execution_count": 2,
   "metadata": {},
   "outputs": [],
   "source": [
    "with open('/Users/willroper/Documents/University/SimFarm2030/SimFarm2030/cultivar_models/Claire_Yield_model.pck', 'rb') as ClaireModel:\n",
    "    claire = pickle.load(ClaireModel)"
   ]
  },
  {
   "cell_type": "code",
   "execution_count": 3,
   "metadata": {},
   "outputs": [],
   "source": [
    "with open('/Users/willroper/Documents/University/SimFarm2030/SimFarm2030/cultivar_models/Cordiale_Yield_model.pck', 'rb') as CordialeModel:\n",
    "    cordiale = pickle.load(CordialeModel)"
   ]
  },
  {
   "cell_type": "code",
   "execution_count": 4,
   "metadata": {
    "scrolled": false
   },
   "outputs": [],
   "source": [
    "with open('/Users/willroper/Documents/University/SimFarm2030/SimFarm2030/cultivar_models/Solstice_Yield_model.pck', 'rb') as SolsticeModel:\n",
    "    solstice = pickle.load(SolsticeModel)"
   ]
  },
  {
   "cell_type": "code",
   "execution_count": 5,
   "metadata": {},
   "outputs": [],
   "source": [
    "with open('/Users/willroper/Documents/University/SimFarm2030/SimFarm2030/cultivar_models/Skyfall_Yield_model.pck', 'rb') as SkyfallModel:\n",
    "    skyfall = pickle.load(SkyfallModel)"
   ]
  },
  {
   "cell_type": "code",
   "execution_count": 8,
   "metadata": {
    "scrolled": false
   },
   "outputs": [],
   "source": [
    "allMuT = np.array([solstice.mean_params['mu_t'],claire.mean_params['mu_t'],cordiale.mean_params['mu_t'],skyfall.mean_params['mu_t']])\n",
    "avgMuT = np.mean(allMuT)\n",
    "\n",
    "solsticeMuT = np.median(solstice.mean_params['mu_t'])/avgMuT\n",
    "claireMuT = np.median(claire.mean_params['mu_t'])/avgMuT\n",
    "cordialeMuT = np.median(cordiale.mean_params['mu_t'])/avgMuT\n",
    "skyfallMuT = np.median(skyfall.mean_params['mu_t'])/avgMuT\n",
    "\n",
    "y = np.array([solsticeMuT,claireMuT,cordialeMuT,skyfallMuT])"
   ]
  },
  {
   "cell_type": "code",
   "execution_count": 9,
   "metadata": {},
   "outputs": [],
   "source": [
    "allMuP = np.array([solstice.mean_params['mu_p'],claire.mean_params['mu_p'],cordiale.mean_params['mu_p'],skyfall.mean_params['mu_p']])\n",
    "avgMuP = np.mean(allMuP)\n",
    "\n",
    "solsticeMuP = np.median(solstice.mean_params['mu_p'])/avgMuP\n",
    "claireMuP = np.median(claire.mean_params['mu_p'])/avgMuP\n",
    "cordialeMuP = np.median(cordiale.mean_params['mu_p'])/avgMuP\n",
    "skyfallMuP = np.median(skyfall.mean_params['mu_p'])/avgMuP\n",
    "\n",
    "y = np.array([solsticeMuP,claireMuP,cordialeMuP,skyfallMuP])"
   ]
  },
  {
   "cell_type": "code",
   "execution_count": 9,
   "metadata": {},
   "outputs": [],
   "source": [
    "allSigmaP = np.array([solstice.fit['sigma_p'],claire.fit['sigma_p'],cordiale.fit['sigma_p'],skyfall.fit['sigma_p']])\n",
    "avgSigmaP = np.mean(allSigmaP)\n",
    "\n",
    "solsticeSigmaP = np.median(solstice.fit['sigma_p'])/avgSigmaP\n",
    "claireSigmaP = np.median(claire.fit['sigma_p'])/avgSigmaP\n",
    "cordialeSigmaP = np.median(cordiale.fit['sigma_p'])/avgSigmaP\n",
    "skyfallSigmaP = np.median(skyfall.fit['sigma_p'])/avgSigmaP\n",
    "\n",
    "y = np.array([solsticeSigmaP,claireSigmaP,cordialeSigmaP,skyfallSigmaP])"
   ]
  },
  {
   "cell_type": "code",
   "execution_count": 10,
   "metadata": {},
   "outputs": [],
   "source": [
    "allSigmaT = np.array([solstice.fit['sigma_t'],claire.fit['sigma_t'],cordiale.fit['sigma_t'],skyfall.fit['sigma_t']])\n",
    "avgSigmaT = np.mean(allSigmaT)\n",
    "\n",
    "solsticeSigmaT = np.median(solstice.fit['sigma_t'])/avgSigmaT\n",
    "claireSigmaT = np.median(claire.fit['sigma_t'])/avgSigmaT\n",
    "cordialeSigmaT = np.median(cordiale.fit['sigma_t'])/avgSigmaT\n",
    "skyfallSigmaT = np.median(skyfall.fit['sigma_t'])/avgSigmaT\n",
    "\n",
    "y = np.array([solsticeSigmaT,claireSigmaT,cordialeSigmaT,skyfallSigmaT])"
   ]
  },
  {
   "cell_type": "code",
   "execution_count": 11,
   "metadata": {
    "scrolled": false
   },
   "outputs": [],
   "source": [
    "allRho = np.array([solstice.fit['rho'],claire.fit['rho'],cordiale.fit['rho'],skyfall.fit['rho']])\n",
    "avgRho = np.mean(allRho)\n",
    "\n",
    "solsticeRho = np.median(solstice.fit['rho'])/avgRho\n",
    "claireRho = np.median(claire.fit['rho'])/avgRho\n",
    "cordialeRho = np.median(cordiale.fit['rho'])/avgRho\n",
    "skyfallRho = np.median(skyfall.fit['rho'])/avgRho\n",
    "\n",
    "y = np.array([solsticeRho,claireRho,cordialeRho,skyfallRho])"
   ]
  },
  {
   "cell_type": "code",
   "execution_count": 12,
   "metadata": {},
   "outputs": [],
   "source": [
    "allNorm = np.array([solstice.fit['norm'],claire.fit['norm'],cordiale.fit['norm'],skyfall.fit['norm']])\n",
    "avgNorm = np.mean(allNorm)\n",
    "\n",
    "solsticeNorm = np.median(solstice.fit['norm'])/avgNorm\n",
    "claireNorm = np.median(claire.fit['norm'])/avgNorm\n",
    "cordialeNorm = np.median(cordiale.fit['norm'])/avgNorm\n",
    "skyfallNorm = np.median(skyfall.fit['norm'])/avgNorm\n",
    "\n",
    "y = np.array([solsticeNorm,claireNorm,cordialeNorm,skyfallNorm])"
   ]
  },
  {
   "cell_type": "code",
   "execution_count": 13,
   "metadata": {},
   "outputs": [],
   "source": [
    "allSigY = np.array([solstice.fit['sig_y'],claire.fit['sig_y'],cordiale.fit['sig_y'],skyfall.fit['sig_y']])\n",
    "avgSigY = np.mean(allSigY)\n",
    "\n",
    "solsticeSigY = np.median(solstice.fit['sig_y'])/avgSigY\n",
    "claireSigY = np.median(claire.fit['sig_y'])/avgSigY\n",
    "cordialeSigY = np.median(cordiale.fit['sig_y'])/avgSigY\n",
    "skyfallSigY = np.median(skyfall.fit['sig_y'])/avgSigY\n",
    "\n",
    "y = np.array([solsticeSigY,claireSigY,cordialeSigY,skyfallSigY])"
   ]
  },
  {
   "cell_type": "code",
   "execution_count": 14,
   "metadata": {},
   "outputs": [],
   "source": [
    "allSolstice = np.array([solsticeNorm,solsticeMuT,solsticeMuP,solsticeRho,solsticeSigmaT,solsticeSigmaP])\n",
    "allCordiale = np.array([cordialeNorm,cordialeMuT,cordialeMuP,cordialeRho,cordialeSigmaT,cordialeSigmaP])\n",
    "allClaire = np.array([claireNorm,claireMuT,cordialeMuP,claireRho,claireSigmaT,claireSigmaP])\n",
    "allSkyfall = np.array([skyfallNorm,skyfallMuT,skyfallMuP,skyfallRho,skyfallSigmaT,skyfallSigmaP])"
   ]
  },
  {
   "cell_type": "code",
   "execution_count": 15,
   "metadata": {},
   "outputs": [],
   "source": [
    "pltMu_t = np.array([solsticeMuT,claireMuT,cordialeMuT,skyfallMuT])\n",
    "pltMu_p = np.array([solsticeMuP,claireMuP,cordialeMuP,skyfallMuP])\n",
    "pltSigma_t = np.array([solsticeSigmaT,claireSigmaT,cordialeSigmaT,skyfallSigmaT])\n",
    "pltSigma_p = np.array([solsticeSigmaP,claireSigmaP,cordialeSigmaP,skyfallSigmaP])\n",
    "pltRho = np.array([solsticeRho,claireRho,cordialeRho,skyfallRho])\n",
    "pltNorm = np.array([solsticeNorm,claireNorm,cordialeNorm,skyfallNorm])\n",
    "pltSig_y = np.array([solsticeSigY,claireSigY,cordialeSigY,skyfallSigY])"
   ]
  },
  {
   "cell_type": "code",
   "execution_count": 16,
   "metadata": {
    "scrolled": true
   },
   "outputs": [
    {
     "name": "stderr",
     "output_type": "stream",
     "text": [
      "/Users/BimChaloner/anaconda3/envs/simfarm/lib/python3.7/site-packages/matplotlib/backends/backend_agg.py:211: RuntimeWarning: Glyph 13 missing from current font.\n",
      "  font.set_text(s, 0.0, flags=flags)\n",
      "/Users/BimChaloner/anaconda3/envs/simfarm/lib/python3.7/site-packages/matplotlib/backends/backend_agg.py:180: RuntimeWarning: Glyph 13 missing from current font.\n",
      "  font.set_text(s, 0, flags=flags)\n"
     ]
    },
    {
     "data": {
      "image/png": "[encoded data removed]",
      "text/plain": [
       "<Figure size 432x288 with 1 Axes>"
      ]
     },
     "metadata": {
      "needs_background": "light"
     },
     "output_type": "display_data"
    }
   ],
   "source": [
    "y = np.array([pltMu_t,pltMu_p,pltSigma_t,pltSigma_p,pltRho,pltNorm,pltSig_y])\n",
    "plt.xticks([0,1,2,3,4,5,6],['$\\mu_t$','$\\mu_p$','$\\sigma_t$','$\\sigma_p$','$\\rho ','Norm','$\\sigma_y$'])\n",
    "plt.plot(y,'+')\n",
    "plt.legend(['Solstice','Claire','Cordiale','Skyfall'])\n",
    "plt.show()"
   ]
  },
  {
   "cell_type": "code",
   "execution_count": null,
   "metadata": {},
   "outputs": [],
   "source": []
  },
  {
   "cell_type": "code",
   "execution_count": null,
   "metadata": {},
   "outputs": [],
   "source": []
  }
 ],
 "metadata": {
  "kernelspec": {
   "display_name": "Python 3",
   "language": "python",
   "name": "python3"
  },
  "language_info": {
   "codemirror_mode": {
    "name": "ipython",
    "version": 3
   },
   "file_extension": ".py",
   "mimetype": "text/x-python",
   "name": "python",
   "nbconvert_exporter": "python",
   "pygments_lexer": "ipython3",
   "version": "3.7.2"
  }
 },
 "nbformat": 4,
 "nbformat_minor": 2
}
