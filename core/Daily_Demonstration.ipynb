{
 "cells": [
  {
   "cell_type": "code",
   "execution_count": 31,
   "metadata": {},
   "outputs": [],
   "source": [
    "from model_daily import cultivarModel\n",
    "import utilities\n",
    "import time\n",
    "import pickle\n",
    "import sys\n",
    "from mcmc import *\n",
    "\n",
    "cult = \"Skyfall\""
   ]
  },
  {
   "cell_type": "code",
   "execution_count": 16,
   "metadata": {},
   "outputs": [
    {
     "name": "stdout",
     "output_type": "stream",
     "text": [
      "Removed 6 outliers with yields < 8.306 Tons / Hectare\n",
      "Training on 126 Regions (data points)\n",
      "Temperature Extracted\n",
      "Rainfall Extracted\n",
      "Input extracted: 3143.7155890464783\n",
      "Setup 3143.7159481048584\n"
     ]
    }
   ],
   "source": [
    "setup_start = time.time()\n",
    "simfarm = cultivarModel(cult, region_tol=0.25, weather=['temperature', 'rainfall'], metric='Yield',\n",
    "                        metric_units='t Ha$^{-1}$')\n",
    "print('Setup', time.time() - setup_start)"
   ]
  },
  {
   "cell_type": "code",
   "execution_count": 32,
   "metadata": {},
   "outputs": [
    {
     "name": "stdout",
     "output_type": "stream",
     "text": [
      "{}\n"
     ]
    },
    {
     "ename": "AttributeError",
     "evalue": "'cultivarModel' object has no attribute 'log_probability'",
     "output_type": "error",
     "traceback": [
      "\u001b[0;31m---------------------------------------------------------------------------\u001b[0m",
      "\u001b[0;31mAttributeError\u001b[0m                            Traceback (most recent call last)",
      "\u001b[0;32m<ipython-input-32-aa427a1397d9>\u001b[0m in \u001b[0;36m<module>\u001b[0;34m\u001b[0m\n\u001b[1;32m      1\u001b[0m \u001b[0mprint\u001b[0m\u001b[0;34m(\u001b[0m\u001b[0msimfarm\u001b[0m\u001b[0;34m.\u001b[0m\u001b[0mmean_params\u001b[0m\u001b[0;34m)\u001b[0m\u001b[0;34m\u001b[0m\u001b[0;34m\u001b[0m\u001b[0m\n\u001b[1;32m      2\u001b[0m \u001b[0mtstart\u001b[0m \u001b[0;34m=\u001b[0m \u001b[0mtime\u001b[0m\u001b[0;34m.\u001b[0m\u001b[0mtime\u001b[0m\u001b[0;34m(\u001b[0m\u001b[0;34m)\u001b[0m\u001b[0;34m\u001b[0m\u001b[0;34m\u001b[0m\u001b[0m\n\u001b[0;32m----> 3\u001b[0;31m \u001b[0mtrain_and_validate_model\u001b[0m\u001b[0;34m(\u001b[0m\u001b[0msimfarm\u001b[0m\u001b[0;34m,\u001b[0m \u001b[0mnsample\u001b[0m\u001b[0;34m=\u001b[0m\u001b[0;36m5000\u001b[0m\u001b[0;34m,\u001b[0m \u001b[0mnwalkers\u001b[0m\u001b[0;34m=\u001b[0m\u001b[0;36m250\u001b[0m\u001b[0;34m)\u001b[0m\u001b[0;34m\u001b[0m\u001b[0;34m\u001b[0m\u001b[0m\n\u001b[0m\u001b[1;32m      4\u001b[0m \u001b[0mprint\u001b[0m\u001b[0;34m(\u001b[0m\u001b[0;34m'Train'\u001b[0m\u001b[0;34m,\u001b[0m \u001b[0mtime\u001b[0m\u001b[0;34m.\u001b[0m\u001b[0mtime\u001b[0m\u001b[0;34m(\u001b[0m\u001b[0;34m)\u001b[0m \u001b[0;34m-\u001b[0m \u001b[0mtstart\u001b[0m\u001b[0;34m)\u001b[0m\u001b[0;34m\u001b[0m\u001b[0;34m\u001b[0m\u001b[0m\n",
      "\u001b[0;32m~/Documents/University/SimFarm2030/SimFarm2030/core/mcmc.py\u001b[0m in \u001b[0;36mtrain_and_validate_model\u001b[0;34m(simfarm, split, nsample, nwalkers)\u001b[0m\n\u001b[1;32m    163\u001b[0m     af_msg = \"\"\"As a rule of thumb, the acceptance fraction (af) should be \n\u001b[1;32m    164\u001b[0m                                 \u001b[0mbetween\u001b[0m \u001b[0;36m0.2\u001b[0m \u001b[0;32mand\u001b[0m \u001b[0;36m0.5\u001b[0m\u001b[0;34m\u001b[0m\u001b[0;34m\u001b[0m\u001b[0m\n\u001b[0;32m--> 165\u001b[0;31m                 \u001b[0mIf\u001b[0m \u001b[0maf\u001b[0m \u001b[0;34m<\u001b[0m \u001b[0;36m0.2\u001b[0m \u001b[0mdecrease\u001b[0m \u001b[0mthe\u001b[0m \u001b[0ma\u001b[0m \u001b[0mparameter\u001b[0m\u001b[0;34m\u001b[0m\u001b[0;34m\u001b[0m\u001b[0m\n\u001b[0m\u001b[1;32m    166\u001b[0m                 \u001b[0mIf\u001b[0m \u001b[0maf\u001b[0m \u001b[0;34m>\u001b[0m \u001b[0;36m0.5\u001b[0m \u001b[0mincrease\u001b[0m \u001b[0mthe\u001b[0m \u001b[0ma\u001b[0m \u001b[0mparameter\u001b[0m\u001b[0;34m\u001b[0m\u001b[0;34m\u001b[0m\u001b[0m\n\u001b[1;32m    167\u001b[0m                 \"\"\"\n",
      "\u001b[0;31mAttributeError\u001b[0m: 'cultivarModel' object has no attribute 'log_probability'"
     ]
    }
   ],
   "source": [
    "print(simfarm.mean_params)\n",
    "tstart = time.time()\n",
    "train_and_validate_model(simfarm, nsample=5000, nwalkers=250)\n",
    "print('Train', time.time() - tstart)"
   ]
  },
  {
   "cell_type": "code",
   "execution_count": null,
   "metadata": {},
   "outputs": [],
   "source": [
    "simfarm.plot_walkers()\n",
    "simfarm.post_prior_comp()\n",
    "\n",
    "# Write out object as pickle\n",
    "with open('../cultivar_models/' + simfarm.cult + '_' + simfarm.metric + '_model.pck', 'wb') as pfile1:\n",
    "    pickle.dump(simfarm, pfile1)"
   ]
  },
  {
   "cell_type": "code",
   "execution_count": null,
   "metadata": {},
   "outputs": [],
   "source": []
  }
 ],
 "metadata": {
  "kernelspec": {
   "display_name": "Python 3",
   "language": "python",
   "name": "python3"
  },
  "language_info": {
   "codemirror_mode": {
    "name": "ipython",
    "version": 3
   },
   "file_extension": ".py",
   "mimetype": "text/x-python",
   "name": "python",
   "nbconvert_exporter": "python",
   "pygments_lexer": "ipython3",
   "version": "3.7.2"
  }
 },
 "nbformat": 4,
 "nbformat_minor": 4
}
